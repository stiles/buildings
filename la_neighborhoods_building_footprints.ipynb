{
 "cells": [
  {
   "cell_type": "markdown",
   "metadata": {},
   "source": [
    "# Processing Microsoft's building footprints data by Los Angeles Neighborhood"
   ]
  },
  {
   "cell_type": "markdown",
   "metadata": {},
   "source": [
    "### Import Python tools"
   ]
  },
  {
   "cell_type": "code",
   "execution_count": 3,
   "metadata": {},
   "outputs": [
    {
     "name": "stdout",
     "output_type": "stream",
     "text": [
      "The lab_black extension is already loaded. To reload it, use:\n",
      "  %reload_ext lab_black\n"
     ]
    }
   ],
   "source": [
    "%load_ext lab_black"
   ]
  },
  {
   "cell_type": "code",
   "execution_count": 4,
   "metadata": {},
   "outputs": [],
   "source": [
    "import pandas as pd\n",
    "import geopandas as gpd"
   ]
  },
  {
   "cell_type": "markdown",
   "metadata": {},
   "source": [
    "---"
   ]
  },
  {
   "cell_type": "markdown",
   "metadata": {},
   "source": [
    "### Convert the Microsoft GeoJSON to a shapefile"
   ]
  },
  {
   "cell_type": "code",
   "execution_count": 6,
   "metadata": {},
   "outputs": [
    {
     "name": "stdout",
     "output_type": "stream",
     "text": [
      "0...10...20...30...40...50...60...70...80...90...100 - done.\n"
     ]
    }
   ],
   "source": [
    "!ogr2ogr -f \"ESRI Shapefile\" output/la/037.shp output/places/037.geojson -progress"
   ]
  },
  {
   "cell_type": "markdown",
   "metadata": {},
   "source": [
    "### Read the new data format"
   ]
  },
  {
   "cell_type": "code",
   "execution_count": null,
   "metadata": {},
   "outputs": [],
   "source": [
    "src = gpd.read_file(\"output/la/037.shp\")"
   ]
  },
  {
   "cell_type": "code",
   "execution_count": 10,
   "metadata": {},
   "outputs": [
    {
     "data": {
      "text/html": [
       "<div>\n",
       "<style scoped>\n",
       "    .dataframe tbody tr th:only-of-type {\n",
       "        vertical-align: middle;\n",
       "    }\n",
       "\n",
       "    .dataframe tbody tr th {\n",
       "        vertical-align: top;\n",
       "    }\n",
       "\n",
       "    .dataframe thead th {\n",
       "        text-align: right;\n",
       "    }\n",
       "</style>\n",
       "<table border=\"1\" class=\"dataframe\">\n",
       "  <thead>\n",
       "    <tr style=\"text-align: right;\">\n",
       "      <th></th>\n",
       "      <th>name</th>\n",
       "      <th>countyfips</th>\n",
       "      <th>geometry</th>\n",
       "    </tr>\n",
       "  </thead>\n",
       "  <tbody>\n",
       "    <tr>\n",
       "      <th>0</th>\n",
       "      <td>Los Angeles</td>\n",
       "      <td>037</td>\n",
       "      <td>POLYGON ((-117.65550 34.36644, -117.65554 34.3...</td>\n",
       "    </tr>\n",
       "    <tr>\n",
       "      <th>1</th>\n",
       "      <td>Los Angeles</td>\n",
       "      <td>037</td>\n",
       "      <td>POLYGON ((-117.65366 34.36188, -117.65368 34.3...</td>\n",
       "    </tr>\n",
       "    <tr>\n",
       "      <th>2</th>\n",
       "      <td>Los Angeles</td>\n",
       "      <td>037</td>\n",
       "      <td>POLYGON ((-117.65889 34.43905, -117.65889 34.4...</td>\n",
       "    </tr>\n",
       "    <tr>\n",
       "      <th>3</th>\n",
       "      <td>Los Angeles</td>\n",
       "      <td>037</td>\n",
       "      <td>POLYGON ((-117.66029 34.23580, -117.66032 34.2...</td>\n",
       "    </tr>\n",
       "    <tr>\n",
       "      <th>4</th>\n",
       "      <td>Los Angeles</td>\n",
       "      <td>037</td>\n",
       "      <td>POLYGON ((-117.67558 34.70836, -117.67559 34.7...</td>\n",
       "    </tr>\n",
       "  </tbody>\n",
       "</table>\n",
       "</div>"
      ],
      "text/plain": [
       "          name countyfips                                           geometry\n",
       "0  Los Angeles        037  POLYGON ((-117.65550 34.36644, -117.65554 34.3...\n",
       "1  Los Angeles        037  POLYGON ((-117.65366 34.36188, -117.65368 34.3...\n",
       "2  Los Angeles        037  POLYGON ((-117.65889 34.43905, -117.65889 34.4...\n",
       "3  Los Angeles        037  POLYGON ((-117.66029 34.23580, -117.66032 34.2...\n",
       "4  Los Angeles        037  POLYGON ((-117.67558 34.70836, -117.67559 34.7..."
      ]
     },
     "execution_count": 10,
     "metadata": {},
     "output_type": "execute_result"
    }
   ],
   "source": [
    "src.head()"
   ]
  },
  {
   "cell_type": "markdown",
   "metadata": {},
   "source": [
    "---"
   ]
  },
  {
   "cell_type": "markdown",
   "metadata": {},
   "source": [
    "### Read L.A. neighborhood boundaries file"
   ]
  },
  {
   "cell_type": "code",
   "execution_count": 11,
   "metadata": {},
   "outputs": [],
   "source": [
    "lahoods = gpd.read_file(\n",
    "    \"../../data/GIS/la/la_county_gis_neighborhoods/la_county_gis_neighborhoods_1566093928766.geojson\"\n",
    ")"
   ]
  },
  {
   "cell_type": "code",
   "execution_count": 60,
   "metadata": {},
   "outputs": [],
   "source": [
    "boundaries_api_url = \"http://s3-us-west-2.amazonaws.com/boundaries.latimes.com/archive/1.0/boundary-set/la-county-neighborhoods-v6.geojson\""
   ]
  },
  {
   "cell_type": "markdown",
   "metadata": {},
   "source": [
    "### Clean up the counties file"
   ]
  },
  {
   "cell_type": "code",
   "execution_count": 12,
   "metadata": {},
   "outputs": [],
   "source": [
    "lahoods.columns = ca_counties.columns.str.strip().str.lower().str.replace(\" \", \"_\")"
   ]
  },
  {
   "cell_type": "code",
   "execution_count": 14,
   "metadata": {},
   "outputs": [
    {
     "data": {
      "text/html": [
       "<div>\n",
       "<style scoped>\n",
       "    .dataframe tbody tr th:only-of-type {\n",
       "        vertical-align: middle;\n",
       "    }\n",
       "\n",
       "    .dataframe tbody tr th {\n",
       "        vertical-align: top;\n",
       "    }\n",
       "\n",
       "    .dataframe thead th {\n",
       "        text-align: right;\n",
       "    }\n",
       "</style>\n",
       "<table border=\"1\" class=\"dataframe\">\n",
       "  <thead>\n",
       "    <tr style=\"text-align: right;\">\n",
       "      <th></th>\n",
       "      <th>objectid</th>\n",
       "      <th>cityname_alf</th>\n",
       "      <th>type</th>\n",
       "      <th>name</th>\n",
       "      <th>city_comm_name</th>\n",
       "      <th>sq_miles</th>\n",
       "      <th>jurisdiction</th>\n",
       "      <th>geometry</th>\n",
       "    </tr>\n",
       "  </thead>\n",
       "  <tbody>\n",
       "    <tr>\n",
       "      <th>0</th>\n",
       "      <td>4261</td>\n",
       "      <td>AGOURA HILLS</td>\n",
       "      <td></td>\n",
       "      <td></td>\n",
       "      <td>AGOURA HILLS</td>\n",
       "      <td>7.817874</td>\n",
       "      <td>INCORPORATED CITY</td>\n",
       "      <td>POLYGON ((-118.73256 34.15503, -118.73239 34.1...</td>\n",
       "    </tr>\n",
       "    <tr>\n",
       "      <th>1</th>\n",
       "      <td>4262</td>\n",
       "      <td>ALHAMBRA</td>\n",
       "      <td></td>\n",
       "      <td></td>\n",
       "      <td>ALHAMBRA</td>\n",
       "      <td>7.631921</td>\n",
       "      <td>INCORPORATED CITY</td>\n",
       "      <td>POLYGON ((-118.12110 34.10537, -118.12117 34.1...</td>\n",
       "    </tr>\n",
       "    <tr>\n",
       "      <th>2</th>\n",
       "      <td>4263</td>\n",
       "      <td>ARCADIA</td>\n",
       "      <td></td>\n",
       "      <td></td>\n",
       "      <td>ARCADIA</td>\n",
       "      <td>11.109514</td>\n",
       "      <td>INCORPORATED CITY</td>\n",
       "      <td>POLYGON ((-118.01826 34.17572, -118.01638 34.1...</td>\n",
       "    </tr>\n",
       "    <tr>\n",
       "      <th>3</th>\n",
       "      <td>4264</td>\n",
       "      <td>ARTESIA</td>\n",
       "      <td></td>\n",
       "      <td></td>\n",
       "      <td>ARTESIA</td>\n",
       "      <td>1.621596</td>\n",
       "      <td>INCORPORATED CITY</td>\n",
       "      <td>POLYGON ((-118.08782 33.88035, -118.08781 33.8...</td>\n",
       "    </tr>\n",
       "    <tr>\n",
       "      <th>4</th>\n",
       "      <td>4265</td>\n",
       "      <td>AVALON</td>\n",
       "      <td></td>\n",
       "      <td></td>\n",
       "      <td>AVALON</td>\n",
       "      <td>2.886091</td>\n",
       "      <td>INCORPORATED CITY</td>\n",
       "      <td>POLYGON ((-118.33083 33.35590, -118.33085 33.3...</td>\n",
       "    </tr>\n",
       "  </tbody>\n",
       "</table>\n",
       "</div>"
      ],
      "text/plain": [
       "   objectid  cityname_alf type name city_comm_name   sq_miles  \\\n",
       "0      4261  AGOURA HILLS             AGOURA HILLS   7.817874   \n",
       "1      4262      ALHAMBRA                 ALHAMBRA   7.631921   \n",
       "2      4263       ARCADIA                  ARCADIA  11.109514   \n",
       "3      4264       ARTESIA                  ARTESIA   1.621596   \n",
       "4      4265        AVALON                   AVALON   2.886091   \n",
       "\n",
       "        jurisdiction                                           geometry  \n",
       "0  INCORPORATED CITY  POLYGON ((-118.73256 34.15503, -118.73239 34.1...  \n",
       "1  INCORPORATED CITY  POLYGON ((-118.12110 34.10537, -118.12117 34.1...  \n",
       "2  INCORPORATED CITY  POLYGON ((-118.01826 34.17572, -118.01638 34.1...  \n",
       "3  INCORPORATED CITY  POLYGON ((-118.08782 33.88035, -118.08781 33.8...  \n",
       "4  INCORPORATED CITY  POLYGON ((-118.33083 33.35590, -118.33085 33.3...  "
      ]
     },
     "execution_count": 14,
     "metadata": {},
     "output_type": "execute_result"
    }
   ],
   "source": [
    "lahoods.head()"
   ]
  },
  {
   "cell_type": "markdown",
   "metadata": {},
   "source": [
    "---"
   ]
  },
  {
   "cell_type": "markdown",
   "metadata": {},
   "source": [
    "### Merge the counties with their buildings"
   ]
  },
  {
   "cell_type": "code",
   "execution_count": null,
   "metadata": {},
   "outputs": [],
   "source": [
    "la_hoods_buildings = gpd.sjoin(src, lahoods, how=\"inner\", op=\"within\")"
   ]
  },
  {
   "cell_type": "code",
   "execution_count": 16,
   "metadata": {},
   "outputs": [
    {
     "data": {
      "text/html": [
       "<div>\n",
       "<style scoped>\n",
       "    .dataframe tbody tr th:only-of-type {\n",
       "        vertical-align: middle;\n",
       "    }\n",
       "\n",
       "    .dataframe tbody tr th {\n",
       "        vertical-align: top;\n",
       "    }\n",
       "\n",
       "    .dataframe thead th {\n",
       "        text-align: right;\n",
       "    }\n",
       "</style>\n",
       "<table border=\"1\" class=\"dataframe\">\n",
       "  <thead>\n",
       "    <tr style=\"text-align: right;\">\n",
       "      <th></th>\n",
       "      <th>name_left</th>\n",
       "      <th>countyfips</th>\n",
       "      <th>geometry</th>\n",
       "      <th>index_right</th>\n",
       "      <th>objectid</th>\n",
       "      <th>cityname_alf</th>\n",
       "      <th>type</th>\n",
       "      <th>name_right</th>\n",
       "      <th>city_comm_name</th>\n",
       "      <th>sq_miles</th>\n",
       "      <th>jurisdiction</th>\n",
       "    </tr>\n",
       "  </thead>\n",
       "  <tbody>\n",
       "    <tr>\n",
       "      <th>0</th>\n",
       "      <td>Los Angeles</td>\n",
       "      <td>037</td>\n",
       "      <td>POLYGON ((-117.65550 34.36644, -117.65554 34.3...</td>\n",
       "      <td>88</td>\n",
       "      <td>4350</td>\n",
       "      <td>None</td>\n",
       "      <td>AREA</td>\n",
       "      <td>ANTELOPE VALLEY</td>\n",
       "      <td>ANTELOPE VALLEY</td>\n",
       "      <td>1800.48028</td>\n",
       "      <td>UNINCORPORATED AREA</td>\n",
       "    </tr>\n",
       "    <tr>\n",
       "      <th>1</th>\n",
       "      <td>Los Angeles</td>\n",
       "      <td>037</td>\n",
       "      <td>POLYGON ((-117.65366 34.36188, -117.65368 34.3...</td>\n",
       "      <td>88</td>\n",
       "      <td>4350</td>\n",
       "      <td>None</td>\n",
       "      <td>AREA</td>\n",
       "      <td>ANTELOPE VALLEY</td>\n",
       "      <td>ANTELOPE VALLEY</td>\n",
       "      <td>1800.48028</td>\n",
       "      <td>UNINCORPORATED AREA</td>\n",
       "    </tr>\n",
       "    <tr>\n",
       "      <th>2</th>\n",
       "      <td>Los Angeles</td>\n",
       "      <td>037</td>\n",
       "      <td>POLYGON ((-117.65889 34.43905, -117.65889 34.4...</td>\n",
       "      <td>88</td>\n",
       "      <td>4350</td>\n",
       "      <td>None</td>\n",
       "      <td>AREA</td>\n",
       "      <td>ANTELOPE VALLEY</td>\n",
       "      <td>ANTELOPE VALLEY</td>\n",
       "      <td>1800.48028</td>\n",
       "      <td>UNINCORPORATED AREA</td>\n",
       "    </tr>\n",
       "    <tr>\n",
       "      <th>3</th>\n",
       "      <td>Los Angeles</td>\n",
       "      <td>037</td>\n",
       "      <td>POLYGON ((-117.66029 34.23580, -117.66032 34.2...</td>\n",
       "      <td>88</td>\n",
       "      <td>4350</td>\n",
       "      <td>None</td>\n",
       "      <td>AREA</td>\n",
       "      <td>ANTELOPE VALLEY</td>\n",
       "      <td>ANTELOPE VALLEY</td>\n",
       "      <td>1800.48028</td>\n",
       "      <td>UNINCORPORATED AREA</td>\n",
       "    </tr>\n",
       "    <tr>\n",
       "      <th>4</th>\n",
       "      <td>Los Angeles</td>\n",
       "      <td>037</td>\n",
       "      <td>POLYGON ((-117.67558 34.70836, -117.67559 34.7...</td>\n",
       "      <td>88</td>\n",
       "      <td>4350</td>\n",
       "      <td>None</td>\n",
       "      <td>AREA</td>\n",
       "      <td>ANTELOPE VALLEY</td>\n",
       "      <td>ANTELOPE VALLEY</td>\n",
       "      <td>1800.48028</td>\n",
       "      <td>UNINCORPORATED AREA</td>\n",
       "    </tr>\n",
       "  </tbody>\n",
       "</table>\n",
       "</div>"
      ],
      "text/plain": [
       "     name_left countyfips                                           geometry  \\\n",
       "0  Los Angeles        037  POLYGON ((-117.65550 34.36644, -117.65554 34.3...   \n",
       "1  Los Angeles        037  POLYGON ((-117.65366 34.36188, -117.65368 34.3...   \n",
       "2  Los Angeles        037  POLYGON ((-117.65889 34.43905, -117.65889 34.4...   \n",
       "3  Los Angeles        037  POLYGON ((-117.66029 34.23580, -117.66032 34.2...   \n",
       "4  Los Angeles        037  POLYGON ((-117.67558 34.70836, -117.67559 34.7...   \n",
       "\n",
       "   index_right  objectid cityname_alf  type       name_right   city_comm_name  \\\n",
       "0           88      4350         None  AREA  ANTELOPE VALLEY  ANTELOPE VALLEY   \n",
       "1           88      4350         None  AREA  ANTELOPE VALLEY  ANTELOPE VALLEY   \n",
       "2           88      4350         None  AREA  ANTELOPE VALLEY  ANTELOPE VALLEY   \n",
       "3           88      4350         None  AREA  ANTELOPE VALLEY  ANTELOPE VALLEY   \n",
       "4           88      4350         None  AREA  ANTELOPE VALLEY  ANTELOPE VALLEY   \n",
       "\n",
       "     sq_miles         jurisdiction  \n",
       "0  1800.48028  UNINCORPORATED AREA  \n",
       "1  1800.48028  UNINCORPORATED AREA  \n",
       "2  1800.48028  UNINCORPORATED AREA  \n",
       "3  1800.48028  UNINCORPORATED AREA  \n",
       "4  1800.48028  UNINCORPORATED AREA  "
      ]
     },
     "execution_count": 16,
     "metadata": {},
     "output_type": "execute_result"
    }
   ],
   "source": [
    "la_hoods_buildings.head()"
   ]
  },
  {
   "cell_type": "code",
   "execution_count": 17,
   "metadata": {},
   "outputs": [],
   "source": [
    "la_hoods_buildings.drop(\n",
    "    [\"index_right\", \"cityname_alf\", \"name_right\", \"sq_miles\", \"name_left\"],\n",
    "    axis=1,\n",
    "    inplace=True,\n",
    ")"
   ]
  },
  {
   "cell_type": "markdown",
   "metadata": {},
   "source": [
    "### How many buildings in each hood?"
   ]
  },
  {
   "cell_type": "code",
   "execution_count": 29,
   "metadata": {},
   "outputs": [],
   "source": [
    "la_hoods_buildings[\"city_comm_name\"] = la_hoods_buildings[\"city_comm_name\"].str.title()"
   ]
  },
  {
   "cell_type": "code",
   "execution_count": 33,
   "metadata": {},
   "outputs": [],
   "source": [
    "la_hoods_buildings[\"jurisdiction\"] = la_hoods_buildings[\"jurisdiction\"].str.title()"
   ]
  },
  {
   "cell_type": "code",
   "execution_count": 51,
   "metadata": {},
   "outputs": [],
   "source": [
    "la_hoods_buildings[\"city_comm_name_slug\"] = (\n",
    "    la_hoods_buildings[\"city_comm_name\"]\n",
    "    .str.lower()\n",
    "    .str.replace(\" \", \"-\", regex=False)\n",
    "    .str.replace(\"/\", \"-\", regex=False)\n",
    ")"
   ]
  },
  {
   "cell_type": "code",
   "execution_count": 52,
   "metadata": {},
   "outputs": [
    {
     "data": {
      "text/html": [
       "<div>\n",
       "<style scoped>\n",
       "    .dataframe tbody tr th:only-of-type {\n",
       "        vertical-align: middle;\n",
       "    }\n",
       "\n",
       "    .dataframe tbody tr th {\n",
       "        vertical-align: top;\n",
       "    }\n",
       "\n",
       "    .dataframe thead th {\n",
       "        text-align: right;\n",
       "    }\n",
       "</style>\n",
       "<table border=\"1\" class=\"dataframe\">\n",
       "  <thead>\n",
       "    <tr style=\"text-align: right;\">\n",
       "      <th></th>\n",
       "      <th>countyfips</th>\n",
       "      <th>geometry</th>\n",
       "      <th>objectid</th>\n",
       "      <th>type</th>\n",
       "      <th>city_comm_name</th>\n",
       "      <th>jurisdiction</th>\n",
       "      <th>city_comm_name_slug</th>\n",
       "    </tr>\n",
       "  </thead>\n",
       "  <tbody>\n",
       "    <tr>\n",
       "      <th>0</th>\n",
       "      <td>037</td>\n",
       "      <td>POLYGON ((-117.65550 34.36644, -117.65554 34.3...</td>\n",
       "      <td>4350</td>\n",
       "      <td>AREA</td>\n",
       "      <td>Antelope Valley</td>\n",
       "      <td>Unincorporated Area</td>\n",
       "      <td>antelope-valley</td>\n",
       "    </tr>\n",
       "    <tr>\n",
       "      <th>1</th>\n",
       "      <td>037</td>\n",
       "      <td>POLYGON ((-117.65366 34.36188, -117.65368 34.3...</td>\n",
       "      <td>4350</td>\n",
       "      <td>AREA</td>\n",
       "      <td>Antelope Valley</td>\n",
       "      <td>Unincorporated Area</td>\n",
       "      <td>antelope-valley</td>\n",
       "    </tr>\n",
       "    <tr>\n",
       "      <th>2</th>\n",
       "      <td>037</td>\n",
       "      <td>POLYGON ((-117.65889 34.43905, -117.65889 34.4...</td>\n",
       "      <td>4350</td>\n",
       "      <td>AREA</td>\n",
       "      <td>Antelope Valley</td>\n",
       "      <td>Unincorporated Area</td>\n",
       "      <td>antelope-valley</td>\n",
       "    </tr>\n",
       "    <tr>\n",
       "      <th>3</th>\n",
       "      <td>037</td>\n",
       "      <td>POLYGON ((-117.66029 34.23580, -117.66032 34.2...</td>\n",
       "      <td>4350</td>\n",
       "      <td>AREA</td>\n",
       "      <td>Antelope Valley</td>\n",
       "      <td>Unincorporated Area</td>\n",
       "      <td>antelope-valley</td>\n",
       "    </tr>\n",
       "    <tr>\n",
       "      <th>4</th>\n",
       "      <td>037</td>\n",
       "      <td>POLYGON ((-117.67558 34.70836, -117.67559 34.7...</td>\n",
       "      <td>4350</td>\n",
       "      <td>AREA</td>\n",
       "      <td>Antelope Valley</td>\n",
       "      <td>Unincorporated Area</td>\n",
       "      <td>antelope-valley</td>\n",
       "    </tr>\n",
       "    <tr>\n",
       "      <th>5</th>\n",
       "      <td>037</td>\n",
       "      <td>POLYGON ((-117.68064 34.56549, -117.68074 34.5...</td>\n",
       "      <td>4350</td>\n",
       "      <td>AREA</td>\n",
       "      <td>Antelope Valley</td>\n",
       "      <td>Unincorporated Area</td>\n",
       "      <td>antelope-valley</td>\n",
       "    </tr>\n",
       "    <tr>\n",
       "      <th>205</th>\n",
       "      <td>037</td>\n",
       "      <td>POLYGON ((-117.71746 34.39145, -117.71748 34.3...</td>\n",
       "      <td>4350</td>\n",
       "      <td>AREA</td>\n",
       "      <td>Antelope Valley</td>\n",
       "      <td>Unincorporated Area</td>\n",
       "      <td>antelope-valley</td>\n",
       "    </tr>\n",
       "    <tr>\n",
       "      <th>208</th>\n",
       "      <td>037</td>\n",
       "      <td>POLYGON ((-117.71724 34.39230, -117.71724 34.3...</td>\n",
       "      <td>4350</td>\n",
       "      <td>AREA</td>\n",
       "      <td>Antelope Valley</td>\n",
       "      <td>Unincorporated Area</td>\n",
       "      <td>antelope-valley</td>\n",
       "    </tr>\n",
       "    <tr>\n",
       "      <th>221</th>\n",
       "      <td>037</td>\n",
       "      <td>POLYGON ((-117.71891 34.39370, -117.71898 34.3...</td>\n",
       "      <td>4350</td>\n",
       "      <td>AREA</td>\n",
       "      <td>Antelope Valley</td>\n",
       "      <td>Unincorporated Area</td>\n",
       "      <td>antelope-valley</td>\n",
       "    </tr>\n",
       "    <tr>\n",
       "      <th>279</th>\n",
       "      <td>037</td>\n",
       "      <td>POLYGON ((-117.72124 34.59179, -117.72124 34.5...</td>\n",
       "      <td>4350</td>\n",
       "      <td>AREA</td>\n",
       "      <td>Antelope Valley</td>\n",
       "      <td>Unincorporated Area</td>\n",
       "      <td>antelope-valley</td>\n",
       "    </tr>\n",
       "    <tr>\n",
       "      <th>365</th>\n",
       "      <td>037</td>\n",
       "      <td>POLYGON ((-117.72670 34.23565, -117.72665 34.2...</td>\n",
       "      <td>4350</td>\n",
       "      <td>AREA</td>\n",
       "      <td>Antelope Valley</td>\n",
       "      <td>Unincorporated Area</td>\n",
       "      <td>antelope-valley</td>\n",
       "    </tr>\n",
       "    <tr>\n",
       "      <th>1254</th>\n",
       "      <td>037</td>\n",
       "      <td>POLYGON ((-117.75524 34.52803, -117.75525 34.5...</td>\n",
       "      <td>4350</td>\n",
       "      <td>AREA</td>\n",
       "      <td>Antelope Valley</td>\n",
       "      <td>Unincorporated Area</td>\n",
       "      <td>antelope-valley</td>\n",
       "    </tr>\n",
       "    <tr>\n",
       "      <th>1383</th>\n",
       "      <td>037</td>\n",
       "      <td>POLYGON ((-117.75900 34.47001, -117.75901 34.4...</td>\n",
       "      <td>4350</td>\n",
       "      <td>AREA</td>\n",
       "      <td>Antelope Valley</td>\n",
       "      <td>Unincorporated Area</td>\n",
       "      <td>antelope-valley</td>\n",
       "    </tr>\n",
       "    <tr>\n",
       "      <th>1410</th>\n",
       "      <td>037</td>\n",
       "      <td>POLYGON ((-117.75980 34.46353, -117.76005 34.4...</td>\n",
       "      <td>4350</td>\n",
       "      <td>AREA</td>\n",
       "      <td>Antelope Valley</td>\n",
       "      <td>Unincorporated Area</td>\n",
       "      <td>antelope-valley</td>\n",
       "    </tr>\n",
       "    <tr>\n",
       "      <th>1437</th>\n",
       "      <td>037</td>\n",
       "      <td>POLYGON ((-117.76019 34.68065, -117.76019 34.6...</td>\n",
       "      <td>4350</td>\n",
       "      <td>AREA</td>\n",
       "      <td>Antelope Valley</td>\n",
       "      <td>Unincorporated Area</td>\n",
       "      <td>antelope-valley</td>\n",
       "    </tr>\n",
       "    <tr>\n",
       "      <th>1510</th>\n",
       "      <td>037</td>\n",
       "      <td>POLYGON ((-117.76337 34.58390, -117.76330 34.5...</td>\n",
       "      <td>4350</td>\n",
       "      <td>AREA</td>\n",
       "      <td>Antelope Valley</td>\n",
       "      <td>Unincorporated Area</td>\n",
       "      <td>antelope-valley</td>\n",
       "    </tr>\n",
       "    <tr>\n",
       "      <th>1841</th>\n",
       "      <td>037</td>\n",
       "      <td>POLYGON ((-117.77344 34.39010, -117.77344 34.3...</td>\n",
       "      <td>4350</td>\n",
       "      <td>AREA</td>\n",
       "      <td>Antelope Valley</td>\n",
       "      <td>Unincorporated Area</td>\n",
       "      <td>antelope-valley</td>\n",
       "    </tr>\n",
       "    <tr>\n",
       "      <th>1864</th>\n",
       "      <td>037</td>\n",
       "      <td>POLYGON ((-117.77344 34.68243, -117.77344 34.6...</td>\n",
       "      <td>4350</td>\n",
       "      <td>AREA</td>\n",
       "      <td>Antelope Valley</td>\n",
       "      <td>Unincorporated Area</td>\n",
       "      <td>antelope-valley</td>\n",
       "    </tr>\n",
       "    <tr>\n",
       "      <th>2257</th>\n",
       "      <td>037</td>\n",
       "      <td>POLYGON ((-117.79273 34.74090, -117.79259 34.7...</td>\n",
       "      <td>4350</td>\n",
       "      <td>AREA</td>\n",
       "      <td>Antelope Valley</td>\n",
       "      <td>Unincorporated Area</td>\n",
       "      <td>antelope-valley</td>\n",
       "    </tr>\n",
       "    <tr>\n",
       "      <th>2329</th>\n",
       "      <td>037</td>\n",
       "      <td>POLYGON ((-117.79406 34.58680, -117.79406 34.5...</td>\n",
       "      <td>4350</td>\n",
       "      <td>AREA</td>\n",
       "      <td>Antelope Valley</td>\n",
       "      <td>Unincorporated Area</td>\n",
       "      <td>antelope-valley</td>\n",
       "    </tr>\n",
       "  </tbody>\n",
       "</table>\n",
       "</div>"
      ],
      "text/plain": [
       "     countyfips                                           geometry  objectid  \\\n",
       "0           037  POLYGON ((-117.65550 34.36644, -117.65554 34.3...      4350   \n",
       "1           037  POLYGON ((-117.65366 34.36188, -117.65368 34.3...      4350   \n",
       "2           037  POLYGON ((-117.65889 34.43905, -117.65889 34.4...      4350   \n",
       "3           037  POLYGON ((-117.66029 34.23580, -117.66032 34.2...      4350   \n",
       "4           037  POLYGON ((-117.67558 34.70836, -117.67559 34.7...      4350   \n",
       "5           037  POLYGON ((-117.68064 34.56549, -117.68074 34.5...      4350   \n",
       "205         037  POLYGON ((-117.71746 34.39145, -117.71748 34.3...      4350   \n",
       "208         037  POLYGON ((-117.71724 34.39230, -117.71724 34.3...      4350   \n",
       "221         037  POLYGON ((-117.71891 34.39370, -117.71898 34.3...      4350   \n",
       "279         037  POLYGON ((-117.72124 34.59179, -117.72124 34.5...      4350   \n",
       "365         037  POLYGON ((-117.72670 34.23565, -117.72665 34.2...      4350   \n",
       "1254        037  POLYGON ((-117.75524 34.52803, -117.75525 34.5...      4350   \n",
       "1383        037  POLYGON ((-117.75900 34.47001, -117.75901 34.4...      4350   \n",
       "1410        037  POLYGON ((-117.75980 34.46353, -117.76005 34.4...      4350   \n",
       "1437        037  POLYGON ((-117.76019 34.68065, -117.76019 34.6...      4350   \n",
       "1510        037  POLYGON ((-117.76337 34.58390, -117.76330 34.5...      4350   \n",
       "1841        037  POLYGON ((-117.77344 34.39010, -117.77344 34.3...      4350   \n",
       "1864        037  POLYGON ((-117.77344 34.68243, -117.77344 34.6...      4350   \n",
       "2257        037  POLYGON ((-117.79273 34.74090, -117.79259 34.7...      4350   \n",
       "2329        037  POLYGON ((-117.79406 34.58680, -117.79406 34.5...      4350   \n",
       "\n",
       "      type   city_comm_name         jurisdiction city_comm_name_slug  \n",
       "0     AREA  Antelope Valley  Unincorporated Area     antelope-valley  \n",
       "1     AREA  Antelope Valley  Unincorporated Area     antelope-valley  \n",
       "2     AREA  Antelope Valley  Unincorporated Area     antelope-valley  \n",
       "3     AREA  Antelope Valley  Unincorporated Area     antelope-valley  \n",
       "4     AREA  Antelope Valley  Unincorporated Area     antelope-valley  \n",
       "5     AREA  Antelope Valley  Unincorporated Area     antelope-valley  \n",
       "205   AREA  Antelope Valley  Unincorporated Area     antelope-valley  \n",
       "208   AREA  Antelope Valley  Unincorporated Area     antelope-valley  \n",
       "221   AREA  Antelope Valley  Unincorporated Area     antelope-valley  \n",
       "279   AREA  Antelope Valley  Unincorporated Area     antelope-valley  \n",
       "365   AREA  Antelope Valley  Unincorporated Area     antelope-valley  \n",
       "1254  AREA  Antelope Valley  Unincorporated Area     antelope-valley  \n",
       "1383  AREA  Antelope Valley  Unincorporated Area     antelope-valley  \n",
       "1410  AREA  Antelope Valley  Unincorporated Area     antelope-valley  \n",
       "1437  AREA  Antelope Valley  Unincorporated Area     antelope-valley  \n",
       "1510  AREA  Antelope Valley  Unincorporated Area     antelope-valley  \n",
       "1841  AREA  Antelope Valley  Unincorporated Area     antelope-valley  \n",
       "1864  AREA  Antelope Valley  Unincorporated Area     antelope-valley  \n",
       "2257  AREA  Antelope Valley  Unincorporated Area     antelope-valley  \n",
       "2329  AREA  Antelope Valley  Unincorporated Area     antelope-valley  "
      ]
     },
     "execution_count": 52,
     "metadata": {},
     "output_type": "execute_result"
    }
   ],
   "source": [
    "la_hoods_buildings.head(20)"
   ]
  },
  {
   "cell_type": "code",
   "execution_count": 53,
   "metadata": {},
   "outputs": [],
   "source": [
    "la_hoods_buildings_grp = (\n",
    "    la_hoods_buildings.groupby(\n",
    "        [\"city_comm_name\", \"jurisdiction\", \"city_comm_name_slug\"]\n",
    "    )\n",
    "    .agg({\"countyfips\": \"count\"})\n",
    "    .reset_index()\n",
    ")"
   ]
  },
  {
   "cell_type": "code",
   "execution_count": 54,
   "metadata": {},
   "outputs": [],
   "source": [
    "la_hoods_buildings_grp.rename(columns={\"countyfips\": \"buildings\"}, inplace=True)"
   ]
  },
  {
   "cell_type": "code",
   "execution_count": 55,
   "metadata": {},
   "outputs": [
    {
     "data": {
      "text/html": [
       "<div>\n",
       "<style scoped>\n",
       "    .dataframe tbody tr th:only-of-type {\n",
       "        vertical-align: middle;\n",
       "    }\n",
       "\n",
       "    .dataframe tbody tr th {\n",
       "        vertical-align: top;\n",
       "    }\n",
       "\n",
       "    .dataframe thead th {\n",
       "        text-align: right;\n",
       "    }\n",
       "</style>\n",
       "<table border=\"1\" class=\"dataframe\">\n",
       "  <thead>\n",
       "    <tr style=\"text-align: right;\">\n",
       "      <th></th>\n",
       "      <th>city_comm_name</th>\n",
       "      <th>jurisdiction</th>\n",
       "      <th>city_comm_name_slug</th>\n",
       "      <th>buildings</th>\n",
       "    </tr>\n",
       "  </thead>\n",
       "  <tbody>\n",
       "    <tr>\n",
       "      <th>76</th>\n",
       "      <td>Los Angeles</td>\n",
       "      <td>Incorporated City</td>\n",
       "      <td>los-angeles</td>\n",
       "      <td>817640</td>\n",
       "    </tr>\n",
       "    <tr>\n",
       "      <th>74</th>\n",
       "      <td>Long Beach</td>\n",
       "      <td>Incorporated City</td>\n",
       "      <td>long-beach</td>\n",
       "      <td>122330</td>\n",
       "    </tr>\n",
       "    <tr>\n",
       "      <th>112</th>\n",
       "      <td>Santa Clarita</td>\n",
       "      <td>Incorporated City</td>\n",
       "      <td>santa-clarita</td>\n",
       "      <td>57049</td>\n",
       "    </tr>\n",
       "    <tr>\n",
       "      <th>70</th>\n",
       "      <td>Lancaster</td>\n",
       "      <td>Incorporated City</td>\n",
       "      <td>lancaster</td>\n",
       "      <td>49020</td>\n",
       "    </tr>\n",
       "    <tr>\n",
       "      <th>92</th>\n",
       "      <td>Palmdale</td>\n",
       "      <td>Incorporated City</td>\n",
       "      <td>palmdale</td>\n",
       "      <td>44460</td>\n",
       "    </tr>\n",
       "  </tbody>\n",
       "</table>\n",
       "</div>"
      ],
      "text/plain": [
       "    city_comm_name       jurisdiction city_comm_name_slug  buildings\n",
       "76     Los Angeles  Incorporated City         los-angeles     817640\n",
       "74      Long Beach  Incorporated City          long-beach     122330\n",
       "112  Santa Clarita  Incorporated City       santa-clarita      57049\n",
       "70       Lancaster  Incorporated City           lancaster      49020\n",
       "92        Palmdale  Incorporated City            palmdale      44460"
      ]
     },
     "execution_count": 55,
     "metadata": {},
     "output_type": "execute_result"
    }
   ],
   "source": [
    "la_hoods_buildings_grp.sort_values(\"buildings\", ascending=False).head()"
   ]
  },
  {
   "cell_type": "markdown",
   "metadata": {},
   "source": [
    "### Slice them up and save county files"
   ]
  },
  {
   "cell_type": "code",
   "execution_count": 57,
   "metadata": {},
   "outputs": [],
   "source": [
    "for hood in la_hoods_buildings[\"city_comm_name_slug\"].unique():\n",
    "    la_hoods_buildings[la_hoods_buildings[\"city_comm_name_slug\"] == hood].to_file(\n",
    "        f\"output/hoods/la/\" + hood + \"_buildings.geojson\", driver=\"GeoJSON\"\n",
    "    )"
   ]
  },
  {
   "cell_type": "code",
   "execution_count": null,
   "metadata": {},
   "outputs": [],
   "source": []
  }
 ],
 "metadata": {
  "kernelspec": {
   "display_name": "Python 3",
   "language": "python",
   "name": "python3"
  },
  "language_info": {
   "codemirror_mode": {
    "name": "ipython",
    "version": 3
   },
   "file_extension": ".py",
   "mimetype": "text/x-python",
   "name": "python",
   "nbconvert_exporter": "python",
   "pygments_lexer": "ipython3",
   "version": "3.7.4"
  }
 },
 "nbformat": 4,
 "nbformat_minor": 4
}
